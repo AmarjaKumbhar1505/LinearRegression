{
 "cells": [
  {
   "cell_type": "code",
   "execution_count": 1,
   "id": "caf11d4d",
   "metadata": {
    "_cell_guid": "b1076dfc-b9ad-4769-8c92-a6c4dae69d19",
    "_uuid": "8f2839f25d086af736a60e9eeb907d3b93b6e0e5",
    "execution": {
     "iopub.execute_input": "2024-07-16T03:51:23.662195Z",
     "iopub.status.busy": "2024-07-16T03:51:23.661814Z",
     "iopub.status.idle": "2024-07-16T03:51:24.467728Z",
     "shell.execute_reply": "2024-07-16T03:51:24.466017Z"
    },
    "papermill": {
     "duration": 0.815626,
     "end_time": "2024-07-16T03:51:24.470415",
     "exception": false,
     "start_time": "2024-07-16T03:51:23.654789",
     "status": "completed"
    },
    "tags": []
   },
   "outputs": [
    {
     "name": "stdout",
     "output_type": "stream",
     "text": [
      "/kaggle/input/salary-dataset-simple-linear-regression/Salary_dataset.csv\n"
     ]
    }
   ],
   "source": [
    "# This Python 3 environment comes with many helpful analytics libraries installed\n",
    "# It is defined by the kaggle/python Docker image: https://github.com/kaggle/docker-python\n",
    "# For example, here's several helpful packages to load\n",
    "\n",
    "import numpy as np # linear algebra\n",
    "import pandas as pd # data processing, CSV file I/O (e.g. pd.read_csv)\n",
    "import matplotlib.pyplot as plt\n",
    "\n",
    "\n",
    "# Input data files are available in the read-only \"../input/\" directory\n",
    "# For example, running this (by clicking run or pressing Shift+Enter) will list all files under the input directory\n",
    "\n",
    "import os\n",
    "for dirname, _, filenames in os.walk('/kaggle/input'):\n",
    "    for filename in filenames:\n",
    "        print(os.path.join(dirname, filename))\n",
    "\n",
    "# You can write up to 20GB to the current directory (/kaggle/working/) that gets preserved as output when you create a version using \"Save & Run All\" \n",
    "# You can also write temporary files to /kaggle/temp/, but they won't be saved outside of the current session"
   ]
  },
  {
   "cell_type": "code",
   "execution_count": 2,
   "id": "88a80c93",
   "metadata": {
    "execution": {
     "iopub.execute_input": "2024-07-16T03:51:24.482839Z",
     "iopub.status.busy": "2024-07-16T03:51:24.482357Z",
     "iopub.status.idle": "2024-07-16T03:51:24.501706Z",
     "shell.execute_reply": "2024-07-16T03:51:24.500604Z"
    },
    "papermill": {
     "duration": 0.028314,
     "end_time": "2024-07-16T03:51:24.504131",
     "exception": false,
     "start_time": "2024-07-16T03:51:24.475817",
     "status": "completed"
    },
    "tags": []
   },
   "outputs": [],
   "source": [
    "df = pd.read_csv(\"/kaggle/input/salary-dataset-simple-linear-regression/Salary_dataset.csv\")\n"
   ]
  },
  {
   "cell_type": "code",
   "execution_count": 3,
   "id": "91faf381",
   "metadata": {
    "execution": {
     "iopub.execute_input": "2024-07-16T03:51:24.515731Z",
     "iopub.status.busy": "2024-07-16T03:51:24.515358Z",
     "iopub.status.idle": "2024-07-16T03:51:24.522372Z",
     "shell.execute_reply": "2024-07-16T03:51:24.521319Z"
    },
    "papermill": {
     "duration": 0.015176,
     "end_time": "2024-07-16T03:51:24.524394",
     "exception": false,
     "start_time": "2024-07-16T03:51:24.509218",
     "status": "completed"
    },
    "tags": []
   },
   "outputs": [],
   "source": [
    "df=df.iloc[:,1:]"
   ]
  },
  {
   "cell_type": "code",
   "execution_count": 4,
   "id": "cc8c5d16",
   "metadata": {
    "execution": {
     "iopub.execute_input": "2024-07-16T03:51:24.536496Z",
     "iopub.status.busy": "2024-07-16T03:51:24.536145Z",
     "iopub.status.idle": "2024-07-16T03:51:24.557372Z",
     "shell.execute_reply": "2024-07-16T03:51:24.556345Z"
    },
    "papermill": {
     "duration": 0.029765,
     "end_time": "2024-07-16T03:51:24.559578",
     "exception": false,
     "start_time": "2024-07-16T03:51:24.529813",
     "status": "completed"
    },
    "tags": []
   },
   "outputs": [
    {
     "data": {
      "text/html": [
       "<div>\n",
       "<style scoped>\n",
       "    .dataframe tbody tr th:only-of-type {\n",
       "        vertical-align: middle;\n",
       "    }\n",
       "\n",
       "    .dataframe tbody tr th {\n",
       "        vertical-align: top;\n",
       "    }\n",
       "\n",
       "    .dataframe thead th {\n",
       "        text-align: right;\n",
       "    }\n",
       "</style>\n",
       "<table border=\"1\" class=\"dataframe\">\n",
       "  <thead>\n",
       "    <tr style=\"text-align: right;\">\n",
       "      <th></th>\n",
       "      <th>YearsExperience</th>\n",
       "      <th>Salary</th>\n",
       "    </tr>\n",
       "  </thead>\n",
       "  <tbody>\n",
       "    <tr>\n",
       "      <th>0</th>\n",
       "      <td>1.2</td>\n",
       "      <td>39344.0</td>\n",
       "    </tr>\n",
       "    <tr>\n",
       "      <th>1</th>\n",
       "      <td>1.4</td>\n",
       "      <td>46206.0</td>\n",
       "    </tr>\n",
       "    <tr>\n",
       "      <th>2</th>\n",
       "      <td>1.6</td>\n",
       "      <td>37732.0</td>\n",
       "    </tr>\n",
       "    <tr>\n",
       "      <th>3</th>\n",
       "      <td>2.1</td>\n",
       "      <td>43526.0</td>\n",
       "    </tr>\n",
       "    <tr>\n",
       "      <th>4</th>\n",
       "      <td>2.3</td>\n",
       "      <td>39892.0</td>\n",
       "    </tr>\n",
       "  </tbody>\n",
       "</table>\n",
       "</div>"
      ],
      "text/plain": [
       "   YearsExperience   Salary\n",
       "0              1.2  39344.0\n",
       "1              1.4  46206.0\n",
       "2              1.6  37732.0\n",
       "3              2.1  43526.0\n",
       "4              2.3  39892.0"
      ]
     },
     "execution_count": 4,
     "metadata": {},
     "output_type": "execute_result"
    }
   ],
   "source": [
    "df.head()"
   ]
  },
  {
   "cell_type": "code",
   "execution_count": 5,
   "id": "140be66f",
   "metadata": {
    "execution": {
     "iopub.execute_input": "2024-07-16T03:51:24.572278Z",
     "iopub.status.busy": "2024-07-16T03:51:24.571906Z",
     "iopub.status.idle": "2024-07-16T03:51:24.578291Z",
     "shell.execute_reply": "2024-07-16T03:51:24.577316Z"
    },
    "papermill": {
     "duration": 0.015412,
     "end_time": "2024-07-16T03:51:24.580423",
     "exception": false,
     "start_time": "2024-07-16T03:51:24.565011",
     "status": "completed"
    },
    "tags": []
   },
   "outputs": [
    {
     "data": {
      "text/plain": [
       "(30, 2)"
      ]
     },
     "execution_count": 5,
     "metadata": {},
     "output_type": "execute_result"
    }
   ],
   "source": [
    "df.shape"
   ]
  },
  {
   "cell_type": "code",
   "execution_count": 6,
   "id": "1a3c1cb6",
   "metadata": {
    "execution": {
     "iopub.execute_input": "2024-07-16T03:51:24.593659Z",
     "iopub.status.busy": "2024-07-16T03:51:24.593283Z",
     "iopub.status.idle": "2024-07-16T03:51:24.617479Z",
     "shell.execute_reply": "2024-07-16T03:51:24.616360Z"
    },
    "papermill": {
     "duration": 0.033939,
     "end_time": "2024-07-16T03:51:24.619815",
     "exception": false,
     "start_time": "2024-07-16T03:51:24.585876",
     "status": "completed"
    },
    "tags": []
   },
   "outputs": [
    {
     "name": "stdout",
     "output_type": "stream",
     "text": [
      "<class 'pandas.core.frame.DataFrame'>\n",
      "RangeIndex: 30 entries, 0 to 29\n",
      "Data columns (total 2 columns):\n",
      " #   Column           Non-Null Count  Dtype  \n",
      "---  ------           --------------  -----  \n",
      " 0   YearsExperience  30 non-null     float64\n",
      " 1   Salary           30 non-null     float64\n",
      "dtypes: float64(2)\n",
      "memory usage: 608.0 bytes\n"
     ]
    }
   ],
   "source": [
    "df.info()"
   ]
  },
  {
   "cell_type": "code",
   "execution_count": 7,
   "id": "d72e0641",
   "metadata": {
    "execution": {
     "iopub.execute_input": "2024-07-16T03:51:24.632482Z",
     "iopub.status.busy": "2024-07-16T03:51:24.632130Z",
     "iopub.status.idle": "2024-07-16T03:51:24.651263Z",
     "shell.execute_reply": "2024-07-16T03:51:24.650174Z"
    },
    "papermill": {
     "duration": 0.027865,
     "end_time": "2024-07-16T03:51:24.653249",
     "exception": false,
     "start_time": "2024-07-16T03:51:24.625384",
     "status": "completed"
    },
    "tags": []
   },
   "outputs": [
    {
     "data": {
      "text/html": [
       "<div>\n",
       "<style scoped>\n",
       "    .dataframe tbody tr th:only-of-type {\n",
       "        vertical-align: middle;\n",
       "    }\n",
       "\n",
       "    .dataframe tbody tr th {\n",
       "        vertical-align: top;\n",
       "    }\n",
       "\n",
       "    .dataframe thead th {\n",
       "        text-align: right;\n",
       "    }\n",
       "</style>\n",
       "<table border=\"1\" class=\"dataframe\">\n",
       "  <thead>\n",
       "    <tr style=\"text-align: right;\">\n",
       "      <th></th>\n",
       "      <th>YearsExperience</th>\n",
       "      <th>Salary</th>\n",
       "    </tr>\n",
       "  </thead>\n",
       "  <tbody>\n",
       "    <tr>\n",
       "      <th>count</th>\n",
       "      <td>30.000000</td>\n",
       "      <td>30.000000</td>\n",
       "    </tr>\n",
       "    <tr>\n",
       "      <th>mean</th>\n",
       "      <td>5.413333</td>\n",
       "      <td>76004.000000</td>\n",
       "    </tr>\n",
       "    <tr>\n",
       "      <th>std</th>\n",
       "      <td>2.837888</td>\n",
       "      <td>27414.429785</td>\n",
       "    </tr>\n",
       "    <tr>\n",
       "      <th>min</th>\n",
       "      <td>1.200000</td>\n",
       "      <td>37732.000000</td>\n",
       "    </tr>\n",
       "    <tr>\n",
       "      <th>25%</th>\n",
       "      <td>3.300000</td>\n",
       "      <td>56721.750000</td>\n",
       "    </tr>\n",
       "    <tr>\n",
       "      <th>50%</th>\n",
       "      <td>4.800000</td>\n",
       "      <td>65238.000000</td>\n",
       "    </tr>\n",
       "    <tr>\n",
       "      <th>75%</th>\n",
       "      <td>7.800000</td>\n",
       "      <td>100545.750000</td>\n",
       "    </tr>\n",
       "    <tr>\n",
       "      <th>max</th>\n",
       "      <td>10.600000</td>\n",
       "      <td>122392.000000</td>\n",
       "    </tr>\n",
       "  </tbody>\n",
       "</table>\n",
       "</div>"
      ],
      "text/plain": [
       "       YearsExperience         Salary\n",
       "count        30.000000      30.000000\n",
       "mean          5.413333   76004.000000\n",
       "std           2.837888   27414.429785\n",
       "min           1.200000   37732.000000\n",
       "25%           3.300000   56721.750000\n",
       "50%           4.800000   65238.000000\n",
       "75%           7.800000  100545.750000\n",
       "max          10.600000  122392.000000"
      ]
     },
     "execution_count": 7,
     "metadata": {},
     "output_type": "execute_result"
    }
   ],
   "source": [
    "df.describe()\n"
   ]
  },
  {
   "cell_type": "code",
   "execution_count": 8,
   "id": "7a954b59",
   "metadata": {
    "execution": {
     "iopub.execute_input": "2024-07-16T03:51:24.666015Z",
     "iopub.status.busy": "2024-07-16T03:51:24.665673Z",
     "iopub.status.idle": "2024-07-16T03:51:24.670976Z",
     "shell.execute_reply": "2024-07-16T03:51:24.669773Z"
    },
    "papermill": {
     "duration": 0.013962,
     "end_time": "2024-07-16T03:51:24.673019",
     "exception": false,
     "start_time": "2024-07-16T03:51:24.659057",
     "status": "completed"
    },
    "tags": []
   },
   "outputs": [],
   "source": [
    "X = df.iloc[:,0:1]\n",
    "y = df.iloc[:,-1]"
   ]
  },
  {
   "cell_type": "code",
   "execution_count": 9,
   "id": "8cf62dd4",
   "metadata": {
    "execution": {
     "iopub.execute_input": "2024-07-16T03:51:24.686407Z",
     "iopub.status.busy": "2024-07-16T03:51:24.685617Z",
     "iopub.status.idle": "2024-07-16T03:51:24.693827Z",
     "shell.execute_reply": "2024-07-16T03:51:24.692759Z"
    },
    "papermill": {
     "duration": 0.017298,
     "end_time": "2024-07-16T03:51:24.695955",
     "exception": false,
     "start_time": "2024-07-16T03:51:24.678657",
     "status": "completed"
    },
    "tags": []
   },
   "outputs": [
    {
     "data": {
      "text/plain": [
       "0      39344.0\n",
       "1      46206.0\n",
       "2      37732.0\n",
       "3      43526.0\n",
       "4      39892.0\n",
       "5      56643.0\n",
       "6      60151.0\n",
       "7      54446.0\n",
       "8      64446.0\n",
       "9      57190.0\n",
       "10     63219.0\n",
       "11     55795.0\n",
       "12     56958.0\n",
       "13     57082.0\n",
       "14     61112.0\n",
       "15     67939.0\n",
       "16     66030.0\n",
       "17     83089.0\n",
       "18     81364.0\n",
       "19     93941.0\n",
       "20     91739.0\n",
       "21     98274.0\n",
       "22    101303.0\n",
       "23    113813.0\n",
       "24    109432.0\n",
       "25    105583.0\n",
       "26    116970.0\n",
       "27    112636.0\n",
       "28    122392.0\n",
       "29    121873.0\n",
       "Name: Salary, dtype: float64"
      ]
     },
     "execution_count": 9,
     "metadata": {},
     "output_type": "execute_result"
    }
   ],
   "source": [
    "y"
   ]
  },
  {
   "cell_type": "code",
   "execution_count": 10,
   "id": "44c69b62",
   "metadata": {
    "execution": {
     "iopub.execute_input": "2024-07-16T03:51:24.709849Z",
     "iopub.status.busy": "2024-07-16T03:51:24.709113Z",
     "iopub.status.idle": "2024-07-16T03:51:25.884584Z",
     "shell.execute_reply": "2024-07-16T03:51:25.882797Z"
    },
    "papermill": {
     "duration": 1.185561,
     "end_time": "2024-07-16T03:51:25.887334",
     "exception": false,
     "start_time": "2024-07-16T03:51:24.701773",
     "status": "completed"
    },
    "tags": []
   },
   "outputs": [],
   "source": [
    "from sklearn.model_selection import train_test_split\n",
    "X_train,X_test,y_train,y_test = train_test_split(X,y,test_size=0.2,random_state=2)"
   ]
  },
  {
   "cell_type": "code",
   "execution_count": 11,
   "id": "be4c3b0a",
   "metadata": {
    "execution": {
     "iopub.execute_input": "2024-07-16T03:51:25.901812Z",
     "iopub.status.busy": "2024-07-16T03:51:25.901403Z",
     "iopub.status.idle": "2024-07-16T03:51:25.910813Z",
     "shell.execute_reply": "2024-07-16T03:51:25.909594Z"
    },
    "papermill": {
     "duration": 0.019084,
     "end_time": "2024-07-16T03:51:25.913077",
     "exception": false,
     "start_time": "2024-07-16T03:51:25.893993",
     "status": "completed"
    },
    "tags": []
   },
   "outputs": [
    {
     "data": {
      "text/plain": [
       "23    113813.0\n",
       "6      60151.0\n",
       "3      43526.0\n",
       "20     91739.0\n",
       "5      56643.0\n",
       "27    112636.0\n",
       "12     56958.0\n",
       "4      39892.0\n",
       "10     63219.0\n",
       "16     66030.0\n",
       "28    122392.0\n",
       "25    105583.0\n",
       "17     83089.0\n",
       "2      37732.0\n",
       "7      54446.0\n",
       "26    116970.0\n",
       "24    109432.0\n",
       "18     81364.0\n",
       "11     55795.0\n",
       "22    101303.0\n",
       "29    121873.0\n",
       "13     57082.0\n",
       "15     67939.0\n",
       "8      64446.0\n",
       "Name: Salary, dtype: float64"
      ]
     },
     "execution_count": 11,
     "metadata": {},
     "output_type": "execute_result"
    }
   ],
   "source": [
    "y_train"
   ]
  },
  {
   "cell_type": "code",
   "execution_count": 12,
   "id": "0f47bf6b",
   "metadata": {
    "execution": {
     "iopub.execute_input": "2024-07-16T03:51:25.927558Z",
     "iopub.status.busy": "2024-07-16T03:51:25.927163Z",
     "iopub.status.idle": "2024-07-16T03:51:26.026559Z",
     "shell.execute_reply": "2024-07-16T03:51:26.025564Z"
    },
    "papermill": {
     "duration": 0.109465,
     "end_time": "2024-07-16T03:51:26.029162",
     "exception": false,
     "start_time": "2024-07-16T03:51:25.919697",
     "status": "completed"
    },
    "tags": []
   },
   "outputs": [],
   "source": [
    "from sklearn.linear_model import LinearRegression\n"
   ]
  },
  {
   "cell_type": "code",
   "execution_count": 13,
   "id": "af6bb73e",
   "metadata": {
    "execution": {
     "iopub.execute_input": "2024-07-16T03:51:26.044188Z",
     "iopub.status.busy": "2024-07-16T03:51:26.043157Z",
     "iopub.status.idle": "2024-07-16T03:51:26.048337Z",
     "shell.execute_reply": "2024-07-16T03:51:26.047239Z"
    },
    "papermill": {
     "duration": 0.01533,
     "end_time": "2024-07-16T03:51:26.050704",
     "exception": false,
     "start_time": "2024-07-16T03:51:26.035374",
     "status": "completed"
    },
    "tags": []
   },
   "outputs": [],
   "source": [
    "lr = LinearRegression()\n"
   ]
  },
  {
   "cell_type": "code",
   "execution_count": 14,
   "id": "f360f0d2",
   "metadata": {
    "execution": {
     "iopub.execute_input": "2024-07-16T03:51:26.064715Z",
     "iopub.status.busy": "2024-07-16T03:51:26.064255Z",
     "iopub.status.idle": "2024-07-16T03:51:26.086437Z",
     "shell.execute_reply": "2024-07-16T03:51:26.085209Z"
    },
    "papermill": {
     "duration": 0.031999,
     "end_time": "2024-07-16T03:51:26.088837",
     "exception": false,
     "start_time": "2024-07-16T03:51:26.056838",
     "status": "completed"
    },
    "tags": []
   },
   "outputs": [
    {
     "data": {
      "text/html": [
       "<style>#sk-container-id-1 {color: black;background-color: white;}#sk-container-id-1 pre{padding: 0;}#sk-container-id-1 div.sk-toggleable {background-color: white;}#sk-container-id-1 label.sk-toggleable__label {cursor: pointer;display: block;width: 100%;margin-bottom: 0;padding: 0.3em;box-sizing: border-box;text-align: center;}#sk-container-id-1 label.sk-toggleable__label-arrow:before {content: \"▸\";float: left;margin-right: 0.25em;color: #696969;}#sk-container-id-1 label.sk-toggleable__label-arrow:hover:before {color: black;}#sk-container-id-1 div.sk-estimator:hover label.sk-toggleable__label-arrow:before {color: black;}#sk-container-id-1 div.sk-toggleable__content {max-height: 0;max-width: 0;overflow: hidden;text-align: left;background-color: #f0f8ff;}#sk-container-id-1 div.sk-toggleable__content pre {margin: 0.2em;color: black;border-radius: 0.25em;background-color: #f0f8ff;}#sk-container-id-1 input.sk-toggleable__control:checked~div.sk-toggleable__content {max-height: 200px;max-width: 100%;overflow: auto;}#sk-container-id-1 input.sk-toggleable__control:checked~label.sk-toggleable__label-arrow:before {content: \"▾\";}#sk-container-id-1 div.sk-estimator input.sk-toggleable__control:checked~label.sk-toggleable__label {background-color: #d4ebff;}#sk-container-id-1 div.sk-label input.sk-toggleable__control:checked~label.sk-toggleable__label {background-color: #d4ebff;}#sk-container-id-1 input.sk-hidden--visually {border: 0;clip: rect(1px 1px 1px 1px);clip: rect(1px, 1px, 1px, 1px);height: 1px;margin: -1px;overflow: hidden;padding: 0;position: absolute;width: 1px;}#sk-container-id-1 div.sk-estimator {font-family: monospace;background-color: #f0f8ff;border: 1px dotted black;border-radius: 0.25em;box-sizing: border-box;margin-bottom: 0.5em;}#sk-container-id-1 div.sk-estimator:hover {background-color: #d4ebff;}#sk-container-id-1 div.sk-parallel-item::after {content: \"\";width: 100%;border-bottom: 1px solid gray;flex-grow: 1;}#sk-container-id-1 div.sk-label:hover label.sk-toggleable__label {background-color: #d4ebff;}#sk-container-id-1 div.sk-serial::before {content: \"\";position: absolute;border-left: 1px solid gray;box-sizing: border-box;top: 0;bottom: 0;left: 50%;z-index: 0;}#sk-container-id-1 div.sk-serial {display: flex;flex-direction: column;align-items: center;background-color: white;padding-right: 0.2em;padding-left: 0.2em;position: relative;}#sk-container-id-1 div.sk-item {position: relative;z-index: 1;}#sk-container-id-1 div.sk-parallel {display: flex;align-items: stretch;justify-content: center;background-color: white;position: relative;}#sk-container-id-1 div.sk-item::before, #sk-container-id-1 div.sk-parallel-item::before {content: \"\";position: absolute;border-left: 1px solid gray;box-sizing: border-box;top: 0;bottom: 0;left: 50%;z-index: -1;}#sk-container-id-1 div.sk-parallel-item {display: flex;flex-direction: column;z-index: 1;position: relative;background-color: white;}#sk-container-id-1 div.sk-parallel-item:first-child::after {align-self: flex-end;width: 50%;}#sk-container-id-1 div.sk-parallel-item:last-child::after {align-self: flex-start;width: 50%;}#sk-container-id-1 div.sk-parallel-item:only-child::after {width: 0;}#sk-container-id-1 div.sk-dashed-wrapped {border: 1px dashed gray;margin: 0 0.4em 0.5em 0.4em;box-sizing: border-box;padding-bottom: 0.4em;background-color: white;}#sk-container-id-1 div.sk-label label {font-family: monospace;font-weight: bold;display: inline-block;line-height: 1.2em;}#sk-container-id-1 div.sk-label-container {text-align: center;}#sk-container-id-1 div.sk-container {/* jupyter's `normalize.less` sets `[hidden] { display: none; }` but bootstrap.min.css set `[hidden] { display: none !important; }` so we also need the `!important` here to be able to override the default hidden behavior on the sphinx rendered scikit-learn.org. See: https://github.com/scikit-learn/scikit-learn/issues/21755 */display: inline-block !important;position: relative;}#sk-container-id-1 div.sk-text-repr-fallback {display: none;}</style><div id=\"sk-container-id-1\" class=\"sk-top-container\"><div class=\"sk-text-repr-fallback\"><pre>LinearRegression()</pre><b>In a Jupyter environment, please rerun this cell to show the HTML representation or trust the notebook. <br />On GitHub, the HTML representation is unable to render, please try loading this page with nbviewer.org.</b></div><div class=\"sk-container\" hidden><div class=\"sk-item\"><div class=\"sk-estimator sk-toggleable\"><input class=\"sk-toggleable__control sk-hidden--visually\" id=\"sk-estimator-id-1\" type=\"checkbox\" checked><label for=\"sk-estimator-id-1\" class=\"sk-toggleable__label sk-toggleable__label-arrow\">LinearRegression</label><div class=\"sk-toggleable__content\"><pre>LinearRegression()</pre></div></div></div></div></div>"
      ],
      "text/plain": [
       "LinearRegression()"
      ]
     },
     "execution_count": 14,
     "metadata": {},
     "output_type": "execute_result"
    }
   ],
   "source": [
    "lr.fit(X_train,y_train)\n"
   ]
  },
  {
   "cell_type": "code",
   "execution_count": 15,
   "id": "6403dd06",
   "metadata": {
    "execution": {
     "iopub.execute_input": "2024-07-16T03:51:26.104288Z",
     "iopub.status.busy": "2024-07-16T03:51:26.103468Z",
     "iopub.status.idle": "2024-07-16T03:51:26.110146Z",
     "shell.execute_reply": "2024-07-16T03:51:26.109127Z"
    },
    "papermill": {
     "duration": 0.016476,
     "end_time": "2024-07-16T03:51:26.112410",
     "exception": false,
     "start_time": "2024-07-16T03:51:26.095934",
     "status": "completed"
    },
    "tags": []
   },
   "outputs": [],
   "source": [
    "y_pred=lr.predict(X_test)"
   ]
  },
  {
   "cell_type": "code",
   "execution_count": 16,
   "id": "ed805576",
   "metadata": {
    "execution": {
     "iopub.execute_input": "2024-07-16T03:51:26.127253Z",
     "iopub.status.busy": "2024-07-16T03:51:26.126462Z",
     "iopub.status.idle": "2024-07-16T03:51:26.133762Z",
     "shell.execute_reply": "2024-07-16T03:51:26.132689Z"
    },
    "papermill": {
     "duration": 0.016999,
     "end_time": "2024-07-16T03:51:26.135935",
     "exception": false,
     "start_time": "2024-07-16T03:51:26.118936",
     "status": "completed"
    },
    "tags": []
   },
   "outputs": [
    {
     "data": {
      "text/plain": [
       "array([36834.63210301, 34920.71472592, 67457.3101364 , 59801.64062805,\n",
       "       92338.23603852, 81811.69046455])"
      ]
     },
     "execution_count": 16,
     "metadata": {},
     "output_type": "execute_result"
    }
   ],
   "source": [
    "y_pred"
   ]
  },
  {
   "cell_type": "code",
   "execution_count": 17,
   "id": "0ede86e3",
   "metadata": {
    "execution": {
     "iopub.execute_input": "2024-07-16T03:51:26.151385Z",
     "iopub.status.busy": "2024-07-16T03:51:26.149997Z",
     "iopub.status.idle": "2024-07-16T03:51:26.158318Z",
     "shell.execute_reply": "2024-07-16T03:51:26.157062Z"
    },
    "papermill": {
     "duration": 0.018649,
     "end_time": "2024-07-16T03:51:26.160944",
     "exception": false,
     "start_time": "2024-07-16T03:51:26.142295",
     "status": "completed"
    },
    "tags": []
   },
   "outputs": [
    {
     "data": {
      "text/plain": [
       "1     46206.0\n",
       "0     39344.0\n",
       "14    61112.0\n",
       "9     57190.0\n",
       "21    98274.0\n",
       "19    93941.0\n",
       "Name: Salary, dtype: float64"
      ]
     },
     "execution_count": 17,
     "metadata": {},
     "output_type": "execute_result"
    }
   ],
   "source": [
    "y_test"
   ]
  },
  {
   "cell_type": "code",
   "execution_count": 18,
   "id": "985e96c5",
   "metadata": {
    "execution": {
     "iopub.execute_input": "2024-07-16T03:51:26.176136Z",
     "iopub.status.busy": "2024-07-16T03:51:26.175164Z",
     "iopub.status.idle": "2024-07-16T03:51:26.182404Z",
     "shell.execute_reply": "2024-07-16T03:51:26.181406Z"
    },
    "papermill": {
     "duration": 0.017183,
     "end_time": "2024-07-16T03:51:26.184629",
     "exception": false,
     "start_time": "2024-07-16T03:51:26.167446",
     "status": "completed"
    },
    "tags": []
   },
   "outputs": [
    {
     "data": {
      "text/plain": [
       "array([9569.58688543])"
      ]
     },
     "execution_count": 18,
     "metadata": {},
     "output_type": "execute_result"
    }
   ],
   "source": [
    "m=lr.coef_\n",
    "m"
   ]
  },
  {
   "cell_type": "code",
   "execution_count": 19,
   "id": "afe390fa",
   "metadata": {
    "execution": {
     "iopub.execute_input": "2024-07-16T03:51:26.199283Z",
     "iopub.status.busy": "2024-07-16T03:51:26.198917Z",
     "iopub.status.idle": "2024-07-16T03:51:26.205338Z",
     "shell.execute_reply": "2024-07-16T03:51:26.204275Z"
    },
    "papermill": {
     "duration": 0.016384,
     "end_time": "2024-07-16T03:51:26.207542",
     "exception": false,
     "start_time": "2024-07-16T03:51:26.191158",
     "status": "completed"
    },
    "tags": []
   },
   "outputs": [
    {
     "data": {
      "text/plain": [
       "23437.21046340505"
      ]
     },
     "execution_count": 19,
     "metadata": {},
     "output_type": "execute_result"
    }
   ],
   "source": [
    "b=lr.intercept_\n",
    "b"
   ]
  },
  {
   "cell_type": "code",
   "execution_count": 20,
   "id": "27a07f13",
   "metadata": {
    "execution": {
     "iopub.execute_input": "2024-07-16T03:51:26.222818Z",
     "iopub.status.busy": "2024-07-16T03:51:26.221956Z",
     "iopub.status.idle": "2024-07-16T03:51:26.575502Z",
     "shell.execute_reply": "2024-07-16T03:51:26.574354Z"
    },
    "papermill": {
     "duration": 0.363427,
     "end_time": "2024-07-16T03:51:26.577653",
     "exception": false,
     "start_time": "2024-07-16T03:51:26.214226",
     "status": "completed"
    },
    "tags": []
   },
   "outputs": [
    {
     "data": {
      "text/plain": [
       "Text(0, 0.5, 'Package(in lpa)')"
      ]
     },
     "execution_count": 20,
     "metadata": {},
     "output_type": "execute_result"
    },
    {
     "data": {
      "image/png": "[encoded data removed]",
      "text/plain": [
       "<Figure size 640x480 with 1 Axes>"
      ]
     },
     "metadata": {},
     "output_type": "display_data"
    }
   ],
   "source": [
    "plt.scatter(df['YearsExperience'],df['Salary'])\n",
    "plt.plot(X_train,lr.predict(X_train),color='red')\n",
    "plt.xlabel('Years of Experience')\n",
    "plt.ylabel('Package(in lpa)')"
   ]
  }
 ],
 "metadata": {
  "kaggle": {
   "accelerator": "none",
   "dataSources": [
    {
     "datasetId": 2799910,
     "sourceId": 4832081,
     "sourceType": "datasetVersion"
    }
   ],
   "dockerImageVersionId": 30746,
   "isGpuEnabled": false,
   "isInternetEnabled": false,
   "language": "python",
   "sourceType": "notebook"
  },
  "kernelspec": {
   "display_name": "Python 3",
   "language": "python",
   "name": "python3"
  },
  "language_info": {
   "codemirror_mode": {
    "name": "ipython",
    "version": 3
   },
   "file_extension": ".py",
   "mimetype": "text/x-python",
   "name": "python",
   "nbconvert_exporter": "python",
   "pygments_lexer": "ipython3",
   "version": "3.10.13"
  },
  "papermill": {
   "default_parameters": {},
   "duration": 6.226112,
   "end_time": "2024-07-16T03:51:27.205490",
   "environment_variables": {},
   "exception": null,
   "input_path": "__notebook__.ipynb",
   "output_path": "__notebook__.ipynb",
   "parameters": {},
   "start_time": "2024-07-16T03:51:20.979378",
   "version": "2.5.0"
  }
 },
 "nbformat": 4,
 "nbformat_minor": 5
}
